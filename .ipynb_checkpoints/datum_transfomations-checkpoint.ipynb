{
 "cells": [
  {
   "cell_type": "markdown",
   "id": "4978bfc1-e41b-4722-baa4-377eb47f46ba",
   "metadata": {},
   "source": [
    "# Datum Transformations\n",
    "By: Cara Piske <br>\n",
    "\n",
    "Transform the vertical and horizontal datums from ASO data to match those of NCALM data <br>\n",
    "NCALM: NAD83 horizontal and NAVD88 vertical datums, and in the UTM Zone 10N projection <br>\n",
    "ASO: WGS84 datum and elevations were given above the WGS84 ellipsoid"
   ]
  },
  {
   "cell_type": "code",
   "execution_count": 1,
   "id": "f73b8730-5325-48ed-9813-f74446559c49",
   "metadata": {},
   "outputs": [],
   "source": [
    "# import necessary packages\n",
    "import pdal"
   ]
  },
  {
   "cell_type": "markdown",
   "id": "381a2684-2f17-4022-bbaa-a71f1ff1dc57",
   "metadata": {},
   "source": [
    "## Vertical Transformations\n",
    "from https://www.gadom.ski/2017/05/31/vdatum-with-pdal.html\n"
   ]
  },
  {
   "cell_type": "code",
   "execution_count": null,
   "id": "2b0b4ad3-1a8a-4ef6-adc0-855fcc7bbd1c",
   "metadata": {},
   "outputs": [],
   "source": []
  }
 ],
 "metadata": {
  "kernelspec": {
   "display_name": "Python 3 (ipykernel)",
   "language": "python",
   "name": "python3"
  },
  "language_info": {
   "codemirror_mode": {
    "name": "ipython",
    "version": 3
   },
   "file_extension": ".py",
   "mimetype": "text/x-python",
   "name": "python",
   "nbconvert_exporter": "python",
   "pygments_lexer": "ipython3",
   "version": "3.9.1"
  }
 },
 "nbformat": 4,
 "nbformat_minor": 5
}
